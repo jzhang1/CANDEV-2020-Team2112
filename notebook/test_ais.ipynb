{
 "cells": [
  {
   "cell_type": "code",
   "execution_count": 3,
   "metadata": {},
   "outputs": [
    {
     "name": "stderr",
     "output_type": "stream",
     "text": [
      "C:\\ProgramData\\Anaconda3\\lib\\site-packages\\ipykernel_launcher.py:2: FutureWarning: The stream module is deprecated and will be removed in 1.0\n",
      "  \n"
     ]
    }
   ],
   "source": [
    "import ais\n",
    "import ais.stream\n",
    "import csv\n",
    "import os\n",
    "from IPython.display import clear_output, display\n",
    "from tqdm import tqdm"
   ]
  },
  {
   "cell_type": "code",
   "execution_count": 4,
   "metadata": {},
   "outputs": [],
   "source": [
    "def data_src():\n",
    "    data_dir = \"../data\"\n",
    "    filename = \"CCG_AIS_Log_2018-05-01.csv\"\n",
    "    path = os.path.join(data_dir, filename)\n",
    "    return path"
   ]
  },
  {
   "cell_type": "code",
   "execution_count": 11,
   "metadata": {},
   "outputs": [],
   "source": [
    "def test():\n",
    "    data_dir = \"../data\"\n",
    "    filename = \"CCG_AIS_Log_2018-05-01.csv\"\n",
    "    path = os.path.join(data_dir, filename)\n",
    "    \n",
    "    with open(path) as f:\n",
    "        for index, msg in enumerate(ais.stream.decode(f)):\n",
    "            return msg"
   ]
  },
  {
   "cell_type": "code",
   "execution_count": 19,
   "metadata": {},
   "outputs": [],
   "source": [
    "def data_fields(path: str):\n",
    "    fields = set()\n",
    "    with open(path) as f:\n",
    "        for msg in ais.stream.decode(f):\n",
    "            for key in msg:\n",
    "                fields.add(key)\n",
    "    return fields"
   ]
  },
  {
   "cell_type": "code",
   "execution_count": 5,
   "metadata": {},
   "outputs": [],
   "source": [
    "def data_fields_min_subset(path: str):\n",
    "    subset = None\n",
    "    union = None\n",
    "    with open(path) as f:\n",
    "        fields = set()\n",
    "        t = tqdm(ais.stream.decode(f))\n",
    "        for msg in t:\n",
    "            for key in msg:\n",
    "                fields.add(key)\n",
    "            if subset == None:\n",
    "                subset = fields\n",
    "            else:\n",
    "                subset = subset.intersection(fields)\n",
    "            if union == None:\n",
    "                union = fields\n",
    "            else:\n",
    "                union = union.union(fields)\n",
    "#             t.set_description(\"{0}, {1}\".format(len(subset), len(union)))\n",
    "    return subset, union"
   ]
  },
  {
   "cell_type": "code",
   "execution_count": 6,
   "metadata": {},
   "outputs": [
    {
     "name": "stderr",
     "output_type": "stream",
     "text": [
      "6878986it [02:53, 39585.90it/s]\n"
     ]
    }
   ],
   "source": [
    "subsets = data_fields_min_subset(data_src())"
   ]
  },
  {
   "cell_type": "code",
   "execution_count": 8,
   "metadata": {},
   "outputs": [],
   "source": [
    "s, u = subsets"
   ]
  },
  {
   "cell_type": "code",
   "execution_count": 9,
   "metadata": {},
   "outputs": [
    {
     "data": {
      "text/plain": [
       "22"
      ]
     },
     "execution_count": 9,
     "metadata": {},
     "output_type": "execute_result"
    }
   ],
   "source": [
    "len(s)"
   ]
  },
  {
   "cell_type": "code",
   "execution_count": 10,
   "metadata": {},
   "outputs": [
    {
     "data": {
      "text/plain": [
       "133"
      ]
     },
     "execution_count": 10,
     "metadata": {},
     "output_type": "execute_result"
    }
   ],
   "source": [
    "len(u)"
   ]
  },
  {
   "cell_type": "code",
   "execution_count": null,
   "metadata": {},
   "outputs": [],
   "source": []
  }
 ],
 "metadata": {
  "kernelspec": {
   "display_name": "Python 3",
   "language": "python",
   "name": "python3"
  },
  "language_info": {
   "codemirror_mode": {
    "name": "ipython",
    "version": 3
   },
   "file_extension": ".py",
   "mimetype": "text/x-python",
   "name": "python",
   "nbconvert_exporter": "python",
   "pygments_lexer": "ipython3",
   "version": "3.7.1"
  }
 },
 "nbformat": 4,
 "nbformat_minor": 2
}
