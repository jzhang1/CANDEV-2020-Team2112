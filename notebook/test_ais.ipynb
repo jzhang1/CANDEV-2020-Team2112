{
 "cells": [
  {
   "cell_type": "code",
   "execution_count": 3,
   "metadata": {},
   "outputs": [
    {
     "name": "stderr",
     "output_type": "stream",
     "text": [
      "C:\\ProgramData\\Anaconda3\\lib\\site-packages\\ipykernel_launcher.py:2: FutureWarning: The stream module is deprecated and will be removed in 1.0\n",
      "  \n"
     ]
    }
   ],
   "source": [
    "import ais\n",
    "import ais.stream\n",
    "import csv\n",
    "import os\n",
    "from IPython.display import clear_output, display\n",
    "from tqdm import tqdm"
   ]
  },
  {
   "cell_type": "code",
   "execution_count": 4,
   "metadata": {},
   "outputs": [],
   "source": [
    "def data_src():\n",
    "    data_dir = \"../data\"\n",
    "    filename = \"CCG_AIS_Log_2018-05-01.csv\"\n",
    "    path = os.path.join(data_dir, filename)\n",
    "    return path"
   ]
  },
  {
   "cell_type": "code",
   "execution_count": 5,
   "metadata": {},
   "outputs": [],
   "source": [
    "def test():\n",
    "    data_dir = \"../data\"\n",
    "    filename = \"CCG_AIS_Log_2018-05-01.csv\"\n",
    "    path = os.path.join(data_dir, filename)\n",
    "    \n",
    "    with open(path) as f:\n",
    "        for index, msg in enumerate(ais.stream.decode(f)):\n",
    "            if len(msg) > 30:\n",
    "                return msg"
   ]
  },
  {
   "cell_type": "code",
   "execution_count": 6,
   "metadata": {},
   "outputs": [
    {
     "data": {
      "text/plain": [
       "{'air_pres',\n",
       " 'air_pres_trend',\n",
       " 'air_temp',\n",
       " 'cur_depth_2',\n",
       " 'cur_depth_3',\n",
       " 'cur_dir_2',\n",
       " 'cur_dir_3',\n",
       " 'cur_speed_2',\n",
       " 'cur_speed_3',\n",
       " 'dac',\n",
       " 'dew_point',\n",
       " 'ext_water_level',\n",
       " 'fi',\n",
       " 'horz_vis',\n",
       " 'ice',\n",
       " 'id',\n",
       " 'mmsi',\n",
       " 'precip_type',\n",
       " 'rel_humid',\n",
       " 'repeat_indicator',\n",
       " 'sea_state',\n",
       " 'spare',\n",
       " 'spare2',\n",
       " 'surf_cur_dir',\n",
       " 'surf_cur_speed',\n",
       " 'swell_dir',\n",
       " 'swell_height',\n",
       " 'swell_period',\n",
       " 'tagblock_C',\n",
       " 'tagblock_station',\n",
       " 'tagblock_timestamp',\n",
       " 'water_level',\n",
       " 'water_level_trend',\n",
       " 'water_temp',\n",
       " 'wave_dir',\n",
       " 'wave_height',\n",
       " 'wave_period',\n",
       " 'wind_ave',\n",
       " 'wind_dir',\n",
       " 'wind_gust',\n",
       " 'wind_gust_dir',\n",
       " 'x',\n",
       " 'y'}"
      ]
     },
     "execution_count": 6,
     "metadata": {},
     "output_type": "execute_result"
    }
   ],
   "source": [
    "set(test())"
   ]
  },
  {
   "cell_type": "code",
   "execution_count": 19,
   "metadata": {},
   "outputs": [],
   "source": [
    "def data_fields(path: str):\n",
    "    fields = set()\n",
    "    with open(path) as f:\n",
    "        for msg in ais.stream.decode(f):\n",
    "            for key in msg:\n",
    "                fields.add(key)\n",
    "    return fields"
   ]
  },
  {
   "cell_type": "code",
   "execution_count": 5,
   "metadata": {},
   "outputs": [],
   "source": [
    "def data_fields_min_subset(path: str):\n",
    "    subset = None\n",
    "    union = None\n",
    "    with open(path) as f:\n",
    "        fields = set()\n",
    "        t = tqdm(ais.stream.decode(f))\n",
    "        for msg in t:\n",
    "            for key in msg:\n",
    "                fields.add(key)\n",
    "            if subset == None:\n",
    "                subset = fields\n",
    "            else:\n",
    "                subset = subset.intersection(fields)\n",
    "            if union == None:\n",
    "                union = fields\n",
    "            else:\n",
    "                union = union.union(fields)\n",
    "#             t.set_description(\"{0}, {1}\".format(len(subset), len(union)))\n",
    "    return subset, union"
   ]
  },
  {
   "cell_type": "code",
   "execution_count": 6,
   "metadata": {},
   "outputs": [
    {
     "name": "stderr",
     "output_type": "stream",
     "text": [
      "6878986it [02:53, 39585.90it/s]\n"
     ]
    }
   ],
   "source": [
    "subsets = data_fields_min_subset(data_src())"
   ]
  },
  {
   "cell_type": "code",
   "execution_count": 8,
   "metadata": {},
   "outputs": [],
   "source": [
    "s, u = subsets"
   ]
  },
  {
   "cell_type": "code",
   "execution_count": 9,
   "metadata": {},
   "outputs": [
    {
     "data": {
      "text/plain": [
       "22"
      ]
     },
     "execution_count": 9,
     "metadata": {},
     "output_type": "execute_result"
    }
   ],
   "source": [
    "len(s)"
   ]
  },
  {
   "cell_type": "code",
   "execution_count": 10,
   "metadata": {},
   "outputs": [
    {
     "data": {
      "text/plain": [
       "133"
      ]
     },
     "execution_count": 10,
     "metadata": {},
     "output_type": "execute_result"
    }
   ],
   "source": [
    "len(u)"
   ]
  },
  {
   "cell_type": "code",
   "execution_count": 1,
   "metadata": {},
   "outputs": [
    {
     "data": {
      "text/plain": [
       "26"
      ]
     },
     "execution_count": 1,
     "metadata": {},
     "output_type": "execute_result"
    }
   ],
   "source": [
    "len([\"Region\",\"Station_Location\",\"AIS_Channel\",\"year\",\"month\",\"day\",\"hour\",\"minute\",\"second\",\"TimeZone\",\"AIS_Class\",\"Message_Type\",\"Repeat_Indicator\",\"MMSI\",\"IMO_number\",\"Call_Sign\",\"Vessel_Name\",\"Type_of_Ship_and_Cargo\",\"Dimension_to_Bow_meters\",\"Dimension_to_Stern_meters\",\"Dimension_to_Port_meters\",\"Dimension_to_Starboard_meters\",\"Vessel_Length_meters\",\"Vessel_Width_meters\",\"Draught_decimeters\",\"Destination\"\n",
    "])"
   ]
  },
  {
   "cell_type": "code",
   "execution_count": null,
   "metadata": {},
   "outputs": [],
   "source": []
  }
 ],
 "metadata": {
  "kernelspec": {
   "display_name": "Python 3",
   "language": "python",
   "name": "python3"
  },
  "language_info": {
   "codemirror_mode": {
    "name": "ipython",
    "version": 3
   },
   "file_extension": ".py",
   "mimetype": "text/x-python",
   "name": "python",
   "nbconvert_exporter": "python",
   "pygments_lexer": "ipython3",
   "version": "3.7.1"
  }
 },
 "nbformat": 4,
 "nbformat_minor": 2
}
